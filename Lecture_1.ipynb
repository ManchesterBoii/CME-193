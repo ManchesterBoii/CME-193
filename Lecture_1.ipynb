{
  "cells": [
    {
      "cell_type": "markdown",
      "metadata": {
        "id": "view-in-github",
        "colab_type": "text"
      },
      "source": [
        "<a href=\"https://colab.research.google.com/github/ManchesterBoii/CME-193/blob/main/Lecture_1.ipynb\" target=\"_parent\"><img src=\"https://colab.research.google.com/assets/colab-badge.svg\" alt=\"Open In Colab\"/></a>"
      ]
    },
    {
      "cell_type": "markdown",
      "source": [
        "# Summary of today:\n",
        "1. Intro to CME 193\n",
        "2. Python Foundations\n",
        "* Variable\n",
        "* Operator\n",
        "* Strings\n",
        "* Control Flow\n",
        "* Exception\n",
        "* Functions\n",
        "* Collections"
      ],
      "metadata": {
        "id": "3fufqWYLlYiV"
      }
    },
    {
      "cell_type": "markdown",
      "metadata": {
        "id": "IB20Lo4pcbHr"
      },
      "source": [
        "# CME 193 - Introduction to Scientific Python\n",
        "\n",
        "\n",
        "## Course Logistics\n",
        "\n",
        "**Instructor:**  Benson Zu(zuyeyang@stanford.edu)\n",
        "\n",
        "**TA**: Huram-Abi Nzia Yotchoum (Abi) (nziayhur@stanford.edu)\n",
        "\n",
        "**Course website:** [cme193.stanford.edu](http://cme193.stanford.edu).\n",
        "Please check there for any materials related for the course (and let me know if something needs to be updated).\n",
        "\n",
        "**Class:** I expect you to preview the basic section since CME 193 is a fast-pace course → I will try to teaching you as much as I could for each 50 min lecture. We will go over the 50 min workshop together with some post-lectue exercises. Those exericise are good chances to try out what you learn, and ask for help if you're stuck.  You aren't required to submit solutions to the exercises, and should focus on exercises you find most interesting if there are multiple options.\n",
        "\n",
        "**Homework:** We'll have 2 homeworks, which should not be difficult or time consuming, but a chance to practice what we cover in class. Feel free to discuss the problems with other students in the class, but the final code you submit should be written by you.\n",
        "\n",
        "**Grading:** This class is offered on a credit/no-credit basis.  Really, you're going to get out of it what you put into it.  My assumption is that you are taking the course because you see it as relevant to your education, and will try to learn material that you see as most important.\n",
        "\n",
        "**Office hours:**\n",
        "* Abi: 9:30am - 11:30am on Mon Huang\n",
        "* Benson: 1pm ~ 3pm on Wed Huang\n"
      ]
    },
    {
      "cell_type": "markdown",
      "metadata": {
        "id": "CyZW8H_CcbHu"
      },
      "source": [
        "# Overview of Course\n",
        "\n",
        "You can find a list of topics we plan to cover on the [course website](http://web.stanford.edu/class/cme193/syllabus.html).  \n",
        "\n",
        "Here is a tentative list of lectures:\n",
        "1. Python basics\n",
        "1. Python Class & Object\n",
        "1. Linear algebra (NumPy)\n",
        "1. Numerical algorithms (NumPy)\n",
        "1. Scientific computing (SciPy)\n",
        "1. Data science (Pandas)\n",
        "1. Machine learning (scikit-learn)\n",
        "1. Deep learning (PyTorch)\n",
        "\n",
        "The goal of the course is to get you started with using Python for scientific computing.\n",
        "* We **are** going to cover common packages for linear algebra, optimization, and data science\n",
        "* We are **not** going to cover all of the Python language, or all of its applications\n",
        "    * We will cover aspects of the Python language as they are needed for our purposes\n",
        "\n",
        "This course is designed for\n",
        "* People who already know how to program (maybe not in Python)\n",
        "* People who want to use Python for research/coursework in a scientific or engineering discipline for modeling, simulations, or data science\n",
        "\n",
        "You don't need to have an expert background in programming or scientific computing to take this course.  Everyone starts somewhere, and if your interests are aligned with the goals of the course you should be ok."
      ]
    },
    {
      "cell_type": "markdown",
      "metadata": {
        "id": "SSKIUbzqcbHv"
      },
      "source": [
        "# Python"
      ]
    },
    {
      "cell_type": "markdown",
      "metadata": {
        "id": "p9aG5dtscbHw"
      },
      "source": [
        "![xkcd_python](https://imgs.xkcd.com/comics/python.png)\n",
        "(From [xkcd](https://xkcd.com/))"
      ]
    },
    {
      "cell_type": "code",
      "execution_count": null,
      "metadata": {
        "id": "UqyHntC_cbHw"
      },
      "outputs": [],
      "source": [
        "print(\"Hello, world!\")"
      ]
    },
    {
      "cell_type": "code",
      "source": [
        "# print value of pi : I am a comment using hash mark\n",
        "# The pi (π ) is a constant of the math library in Python that returns the value 3.14...\n",
        "import math\n",
        "\n",
        "print(math.pi)"
      ],
      "metadata": {
        "id": "3Yeai9_k8qbD"
      },
      "execution_count": null,
      "outputs": []
    },
    {
      "cell_type": "markdown",
      "source": [
        "# Basic Section (Start)"
      ],
      "metadata": {
        "id": "w6Oof-gM7WHO"
      }
    },
    {
      "cell_type": "markdown",
      "metadata": {
        "id": "BdGrklkzcbHx"
      },
      "source": [
        "## Variables\n",
        "\n",
        "One of the main differences in python compared to other languages you might be familiar with is that variables are not declared and are not strongly typed"
      ]
    },
    {
      "cell_type": "code",
      "execution_count": null,
      "metadata": {
        "id": "FMBoJLc-cbHy",
        "colab": {
          "base_uri": "https://localhost:8080/"
        },
        "outputId": "81e66e74-5b15-429a-8c88-28ff3fe3b7ee"
      },
      "outputs": [
        {
          "output_type": "stream",
          "name": "stdout",
          "text": [
            "1\n"
          ]
        }
      ],
      "source": [
        "x = 1\n",
        "print(x)"
      ]
    },
    {
      "cell_type": "code",
      "source": [
        "x = 1\n",
        "print(type(x))"
      ],
      "metadata": {
        "id": "EhmHS2f-n0UX",
        "colab": {
          "base_uri": "https://localhost:8080/"
        },
        "outputId": "6e6da7b5-5584-4b61-f6d7-477df4072d55"
      },
      "execution_count": null,
      "outputs": [
        {
          "output_type": "stream",
          "name": "stdout",
          "text": [
            "<class 'int'>\n"
          ]
        }
      ]
    },
    {
      "cell_type": "code",
      "execution_count": null,
      "metadata": {
        "id": "y5N9BPNdcbHz",
        "colab": {
          "base_uri": "https://localhost:8080/"
        },
        "outputId": "b341ac70-ac91-4972-b3f6-7b2180b6c794"
      },
      "outputs": [
        {
          "output_type": "stream",
          "name": "stdout",
          "text": [
            "1.0\n",
            "<class 'float'>\n",
            "string\n",
            "<class 'str'>\n"
          ]
        }
      ],
      "source": [
        "x = 1.0\n",
        "print(x)\n",
        "print(type(x))\n",
        "\n",
        "x = \"string\"  # same as \"string\" #pound sign is for comments\n",
        "print(x)\n",
        "print(type(x))"
      ]
    },
    {
      "cell_type": "code",
      "source": [
        "x"
      ],
      "metadata": {
        "colab": {
          "base_uri": "https://localhost:8080/",
          "height": 56
        },
        "id": "LzDUDnylvyHL",
        "outputId": "66189b3a-3c5a-47a1-9cae-46326a701e3f"
      },
      "execution_count": null,
      "outputs": [
        {
          "output_type": "execute_result",
          "data": {
            "text/plain": [
              "'string'"
            ],
            "application/vnd.google.colaboratory.intrinsic+json": {
              "type": "string"
            }
          },
          "metadata": {},
          "execution_count": 4
        }
      ]
    },
    {
      "cell_type": "code",
      "source": [
        "from IPython.display import display\n",
        "\n",
        "display(x)"
      ],
      "metadata": {
        "colab": {
          "base_uri": "https://localhost:8080/",
          "height": 56
        },
        "id": "2fr1Cs8kwRuN",
        "outputId": "ce5f2098-a586-4703-878d-af4d7a34e50e"
      },
      "execution_count": null,
      "outputs": [
        {
          "output_type": "display_data",
          "data": {
            "text/plain": [
              "'string'"
            ],
            "application/vnd.google.colaboratory.intrinsic+json": {
              "type": "string"
            }
          },
          "metadata": {}
        }
      ]
    },
    {
      "cell_type": "markdown",
      "metadata": {
        "id": "nkYosle9cbH1"
      },
      "source": [
        "## Basic Arithmetic\n",
        "\n",
        "Math Operators:\n",
        "`+ - * / // % **`\n",
        "\n",
        "Boolean expressions:\n",
        "* keywords: `True` and `False` (note capitalization)\n",
        "- False = 0, True = 1\n",
        "    - C1 and C2 = min (C1, C2)\n",
        "    - C1 or C2 = max(C1, C2)\n",
        "* `==` equals: `5 == 5` yields `True`\n",
        "* `!=` does not equal: `5 != 5` yields `False`\n",
        "* `>` greater than: `5 > 4` yields `True`\n",
        "* `>=` greater than or equal: `5 >= 5` yields `True`\n",
        "* Similarly, we have `<` and `<=`.\n",
        "\n",
        "Logical operators:\n",
        "* `and`, `or`, and `not`\n",
        "* `True and False`\n",
        "* `True or False`\n",
        "* `not True`"
      ]
    },
    {
      "cell_type": "code",
      "source": [
        "# Dividing 0 is an error\n",
        "4 / 2"
      ],
      "metadata": {
        "id": "nUWU03T6o82j",
        "colab": {
          "base_uri": "https://localhost:8080/"
        },
        "outputId": "0fdde2a4-cd25-403d-f4b3-a524cc306350"
      },
      "execution_count": null,
      "outputs": [
        {
          "output_type": "execute_result",
          "data": {
            "text/plain": [
              "2.0"
            ]
          },
          "metadata": {},
          "execution_count": 9
        }
      ]
    },
    {
      "cell_type": "code",
      "execution_count": null,
      "metadata": {
        "id": "AGVUfzrccbH3",
        "colab": {
          "base_uri": "https://localhost:8080/"
        },
        "outputId": "23932028-feab-444f-b7ea-cc19e1f35427"
      },
      "outputs": [
        {
          "output_type": "execute_result",
          "data": {
            "text/plain": [
              "float"
            ]
          },
          "metadata": {},
          "execution_count": 8
        }
      ],
      "source": [
        "# The result of regular division is always a float\n",
        "type(4 / 2)"
      ]
    },
    {
      "cell_type": "code",
      "execution_count": null,
      "metadata": {
        "id": "S5NLeVRDcbH3"
      },
      "outputs": [],
      "source": [
        "type(5 // 3)  # Floor division =1"
      ]
    },
    {
      "cell_type": "code",
      "execution_count": null,
      "metadata": {
        "id": "gQXUdO4CcbH4"
      },
      "outputs": [],
      "source": [
        "5 % 3  # Modulus"
      ]
    },
    {
      "cell_type": "code",
      "execution_count": null,
      "metadata": {
        "id": "D0XEe3XecbH4"
      },
      "outputs": [],
      "source": [
        "4**3  # Exponentiation"
      ]
    },
    {
      "cell_type": "code",
      "source": [
        "# == to check if the values match\n",
        "x = 5.0\n",
        "y = 5\n",
        "\n",
        "x == y"
      ],
      "metadata": {
        "id": "agl9SgW80Lo3",
        "colab": {
          "base_uri": "https://localhost:8080/"
        },
        "outputId": "f0a6ea9d-4707-4a25-bed9-3e955b78a879"
      },
      "execution_count": null,
      "outputs": [
        {
          "output_type": "execute_result",
          "data": {
            "text/plain": [
              "True"
            ]
          },
          "metadata": {},
          "execution_count": 10
        }
      ]
    },
    {
      "cell_type": "code",
      "source": [
        "print(type(x), type(y))"
      ],
      "metadata": {
        "id": "J10_TdDUons4",
        "colab": {
          "base_uri": "https://localhost:8080/"
        },
        "outputId": "bdcce728-2e33-4df9-c5ca-ab4de4349d8a"
      },
      "execution_count": null,
      "outputs": [
        {
          "output_type": "stream",
          "name": "stdout",
          "text": [
            "<class 'float'> <class 'int'>\n"
          ]
        }
      ]
    },
    {
      "cell_type": "code",
      "source": [
        "x = 5.0\n",
        "y = 5\n",
        "print(\"x == y: \" + str(x == y))\n",
        "print(\"x is y: \" + str(x is y))\n",
        "\n",
        "# == checks for equality - if the two variables point at values are equal.\n",
        "# is checks for identity - if the two variables point to the exact same object."
      ],
      "metadata": {
        "id": "Wgqp32w8z-ks",
        "colab": {
          "base_uri": "https://localhost:8080/"
        },
        "outputId": "2fe27342-4df1-41b7-9360-bd4afa6cb54c"
      },
      "execution_count": null,
      "outputs": [
        {
          "output_type": "stream",
          "name": "stdout",
          "text": [
            "x == y: True\n",
            "x is y: False\n"
          ]
        }
      ]
    },
    {
      "cell_type": "code",
      "source": [
        "s = [\"example\"]\n",
        "answer = [\"example\"]\n",
        "\n",
        "print(\"s == 'example': \" + str(s == answer))\n",
        "print(\"s is 'example': \" + str(s is answer))  # TODO: Check @pointer\n",
        "\n",
        "# Python string interning -> Since string are immutable\n",
        "# it makes sense for the interpreter to store the string literal only once and point all the variables to the same object"
      ],
      "metadata": {
        "id": "5OmbXD0a0lL5",
        "colab": {
          "base_uri": "https://localhost:8080/"
        },
        "outputId": "2d318be1-7fc5-4225-fd6d-d1d42b7b125f"
      },
      "execution_count": null,
      "outputs": [
        {
          "output_type": "stream",
          "name": "stdout",
          "text": [
            "s == 'example': True\n",
            "s is 'example': False\n"
          ]
        }
      ]
    },
    {
      "cell_type": "code",
      "execution_count": null,
      "metadata": {
        "id": "bA-zIPGZcbH2",
        "colab": {
          "base_uri": "https://localhost:8080/"
        },
        "outputId": "b68eafe0-2681-42fc-f426-961f276474c5"
      },
      "outputs": [
        {
          "output_type": "execute_result",
          "data": {
            "text/plain": [
              "True"
            ]
          },
          "metadata": {},
          "execution_count": 15
        }
      ],
      "source": [
        "True or False  # some other language use '&' for 'and', '|' for 'or', '!' for 'not': NOT IN PYTHON"
      ]
    },
    {
      "cell_type": "code",
      "source": [
        "not True"
      ],
      "metadata": {
        "id": "zYhfQ3_RuZXM"
      },
      "execution_count": null,
      "outputs": []
    },
    {
      "cell_type": "code",
      "source": [
        "not 5 == 5.0  # equivalent to 5 != 5.0"
      ],
      "metadata": {
        "id": "_NiNaDTa0Gjo"
      },
      "execution_count": null,
      "outputs": []
    },
    {
      "cell_type": "markdown",
      "metadata": {
        "id": "5NpmPWnlcbH5"
      },
      "source": [
        "## Strings\n",
        "\n",
        "Concatenation: `str1 + str2`\n",
        "\n",
        "Printing: `print(str1)`"
      ]
    },
    {
      "cell_type": "code",
      "source": [
        "1 + 1"
      ],
      "metadata": {
        "colab": {
          "base_uri": "https://localhost:8080/"
        },
        "id": "kbIgEqkLmM-R",
        "outputId": "a1aefa42-34ae-451b-f1f8-7302670e0280"
      },
      "execution_count": null,
      "outputs": [
        {
          "output_type": "execute_result",
          "data": {
            "text/plain": [
              "2"
            ]
          },
          "metadata": {},
          "execution_count": 16
        }
      ]
    },
    {
      "cell_type": "code",
      "execution_count": null,
      "metadata": {
        "id": "eKSQF5MNcbH5",
        "colab": {
          "base_uri": "https://localhost:8080/",
          "height": 56
        },
        "outputId": "8a6a7e64-0917-42c9-d17f-95b5137dc8e9"
      },
      "outputs": [
        {
          "output_type": "execute_result",
          "data": {
            "text/plain": [
              "\"Alice's numbers are 20 and 52, and their sum is 72\""
            ],
            "application/vnd.google.colaboratory.intrinsic+json": {
              "type": "string"
            }
          },
          "metadata": {},
          "execution_count": 17
        }
      ],
      "source": [
        "str1 = \"Alice's numbers are 20 and 52, \"\n",
        "str2 = \"and their sum is 72\"\n",
        "str3 = str1 + str2\n",
        "str3"
      ]
    },
    {
      "cell_type": "markdown",
      "metadata": {
        "id": "InSoz24QcbH5"
      },
      "source": [
        "String Formatting:"
      ]
    },
    {
      "cell_type": "code",
      "execution_count": null,
      "metadata": {
        "id": "84Llsw9RcbH6",
        "colab": {
          "base_uri": "https://localhost:8080/",
          "height": 56
        },
        "outputId": "99216740-4528-47c4-89a1-651f44ada98c"
      },
      "outputs": [
        {
          "output_type": "execute_result",
          "data": {
            "text/plain": [
              "\"Alice's friend's numbers are -3 and 52, and their sum is 49\""
            ],
            "application/vnd.google.colaboratory.intrinsic+json": {
              "type": "string"
            }
          },
          "metadata": {},
          "execution_count": 96
        }
      ],
      "source": [
        "# f-string (pyhton == ^3.6)\n",
        "\n",
        "x = -3\n",
        "y = 52\n",
        "name = \"Alice's friend\"\n",
        "\n",
        "# f-string\n",
        "str1 = f\"{name}'s numbers are {x} and {y}, \"\n",
        "str2 = f\"and their sum is {x + y}\"\n",
        "str3 = str1 + str2\n",
        "str3"
      ]
    },
    {
      "cell_type": "markdown",
      "source": [
        "(Optional) Old School String Format"
      ],
      "metadata": {
        "id": "he8_hSKW2IWk"
      }
    },
    {
      "cell_type": "code",
      "execution_count": null,
      "metadata": {
        "id": "WG8MA1BAcbH6"
      },
      "outputs": [],
      "source": [
        "str1 = \"a: %s\" % \"string\"\n",
        "print(str1)\n",
        "str2 = \"b: %f, %s, %d\" % (1.0, \"hello\", 5)\n",
        "print(str2)\n",
        "str3 = \"c: {}\".format(3.14)\n",
        "print(str3)"
      ]
    },
    {
      "cell_type": "code",
      "execution_count": null,
      "metadata": {
        "id": "o2R732-VcbH6"
      },
      "outputs": [],
      "source": [
        "# some methods\n",
        "str1 = \"Hello, World!\"\n",
        "print(str1)\n",
        "print(str1.upper())\n",
        "print(str1.lower())"
      ]
    },
    {
      "cell_type": "code",
      "source": [
        "str1.replace(\"l\", \"p\")"
      ],
      "metadata": {
        "id": "LODwyCHim-u7"
      },
      "execution_count": null,
      "outputs": []
    },
    {
      "cell_type": "code",
      "execution_count": null,
      "metadata": {
        "id": "YMhohStZcbH7"
      },
      "outputs": [],
      "source": [
        "?str.replace"
      ]
    },
    {
      "cell_type": "markdown",
      "metadata": {
        "id": "BuvH2ODKcbH7"
      },
      "source": [
        "## Control Flow\n",
        "\n",
        "If statements:  \n",
        "if decides whether certain statements need to be executed or not. It checks for a given condition\n",
        "```python\n",
        "if condition1:\n",
        "  statements1\n",
        "elif condition2:\n",
        "  statements2\n",
        "elif condition3:\n",
        "  statements3\n",
        "else:\n",
        "  statements4\n",
        "```"
      ]
    },
    {
      "cell_type": "code",
      "execution_count": null,
      "metadata": {
        "id": "1eYcDMetcbH8",
        "colab": {
          "base_uri": "https://localhost:8080/"
        },
        "outputId": "27e7856a-17f8-4f76-db3e-30eff89239d3"
      },
      "outputs": [
        {
          "output_type": "stream",
          "name": "stdout",
          "text": [
            "I am here\n",
            "x is 3\n"
          ]
        }
      ],
      "source": [
        "x = 3\n",
        "y = 4\n",
        "\n",
        "if x == y:\n",
        "    print(\"The value of x is the same as value of y\")\n",
        "elif x == 3:\n",
        "    print(\"I am here\")\n",
        "    print(\"x is 3\")\n",
        "else:\n",
        "    print(\"x is something else\")"
      ]
    },
    {
      "cell_type": "markdown",
      "metadata": {
        "id": "RwNgRLrCcbH8"
      },
      "source": [
        "**For loops**  \n",
        "\n",
        "control flow statement for specifying iteration, which allows code to be executed repeatedly"
      ]
    },
    {
      "cell_type": "code",
      "execution_count": null,
      "metadata": {
        "id": "YLdLhZR1cbH8",
        "colab": {
          "base_uri": "https://localhost:8080/"
        },
        "outputId": "4bfafafc-10ef-459e-a637-bea418fafbbb"
      },
      "outputs": [
        {
          "output_type": "stream",
          "name": "stdout",
          "text": [
            "0, next loop\n",
            "1, next loop\n",
            "2, next loop\n",
            "3, next loop\n"
          ]
        }
      ],
      "source": [
        "for i in range(4):  # default - start at 0, increment by 1\n",
        "    print(f\"{i}, next loop\")"
      ]
    },
    {
      "cell_type": "code",
      "source": [
        "?range"
      ],
      "metadata": {
        "id": "qLhGzbGg7o09"
      },
      "execution_count": null,
      "outputs": []
    },
    {
      "cell_type": "code",
      "source": [
        "for i in range(10, 2, -2):  # inputs are start, stop, step\n",
        "    print(i)"
      ],
      "metadata": {
        "id": "MPyXYfnA9IsX",
        "colab": {
          "base_uri": "https://localhost:8080/"
        },
        "outputId": "18d57bc6-32a0-403b-c66d-13f1a334e9d2"
      },
      "execution_count": null,
      "outputs": [
        {
          "output_type": "stream",
          "name": "stdout",
          "text": [
            "10\n",
            "8\n",
            "6\n",
            "4\n"
          ]
        }
      ]
    },
    {
      "cell_type": "markdown",
      "metadata": {
        "id": "NcNxRCDtcbH8"
      },
      "source": [
        "**while loops**"
      ]
    },
    {
      "cell_type": "code",
      "execution_count": null,
      "metadata": {
        "id": "IhOWQZpKcbH9",
        "colab": {
          "base_uri": "https://localhost:8080/"
        },
        "outputId": "2c087e1e-9830-4d2d-888c-d9bdac4e5cca"
      },
      "outputs": [
        {
          "output_type": "stream",
          "name": "stdout",
          "text": [
            "1\n",
            "2\n",
            "3\n",
            "4\n",
            "5\n",
            "6\n",
            "7\n",
            "8\n",
            "9\n",
            "Finished\n"
          ]
        }
      ],
      "source": [
        "# Find all positive integer whose square < 100\n",
        "i = 1\n",
        "while i**2 < 100:\n",
        "    print(i)\n",
        "    i += 1  # i += 1 is the same as i = i + 1\n",
        "print(\"Finished\")"
      ]
    },
    {
      "cell_type": "markdown",
      "metadata": {
        "id": "e416dtcqcbH9"
      },
      "source": [
        "**continue** - skip the rest of the loop\n",
        "\n",
        "**break** - exit from the loop"
      ]
    },
    {
      "cell_type": "code",
      "execution_count": null,
      "metadata": {
        "id": "n0MAplWdcbH9",
        "colab": {
          "base_uri": "https://localhost:8080/"
        },
        "outputId": "82c0a5c8-392c-403b-a359-d82b32a78dc3"
      },
      "outputs": [
        {
          "output_type": "stream",
          "name": "stdout",
          "text": [
            "Found 1, an odd number\n",
            "Found 2, an even number, Continue!\n",
            "Found 3, an odd number\n",
            "Found 4, an even number, Continue!\n",
            "Found 5, an odd number\n",
            "Found 6, an even number, Continue!\n",
            "Found 7, an odd number\n",
            "Found 8, an even number, Continue!\n",
            "Found 9, an odd number\n",
            "Finished\n"
          ]
        }
      ],
      "source": [
        "# distinguish even or odd number\n",
        "for num in range(1, 10):\n",
        "    if num % 2 == 0:\n",
        "        print(f\"Found {num}, an even number, Continue!\")\n",
        "        continue  # this jumps us back to the top\n",
        "\n",
        "    print(f\"Found {num}, an odd number\")\n",
        "\n",
        "\n",
        "print(\"Finished\")"
      ]
    },
    {
      "cell_type": "code",
      "execution_count": null,
      "metadata": {
        "id": "_Lie5ddEcbH-",
        "colab": {
          "base_uri": "https://localhost:8080/"
        },
        "outputId": "4457e01a-6e33-4bff-93d1-6055d2372101"
      },
      "outputs": [
        {
          "output_type": "stream",
          "name": "stdout",
          "text": [
            "Found 1, an odd number\n",
            "Found 2, an even number, BREAK!\n",
            "Finished\n"
          ]
        }
      ],
      "source": [
        "for num in range(1, 10):\n",
        "    if num % 2 == 0:  # if n divisible by x\n",
        "        print(f\"Found {num}, an even number, BREAK!\")\n",
        "        break\n",
        "\n",
        "    print(f\"Found {num}, an odd number\")\n",
        "print(\"Finished\")"
      ]
    },
    {
      "cell_type": "code",
      "execution_count": null,
      "metadata": {
        "id": "nv7ncYB1cbH-"
      },
      "outputs": [],
      "source": [
        "# continue/break statement only continue/breaks its cloest parent level loop statement\n",
        "for i in range(3):\n",
        "    print(f\"Outer {i}\")\n",
        "    for j in range(3):\n",
        "        print(f\"   Inner : {j}\")\n",
        "        break\n",
        "    # jump to here after break"
      ]
    },
    {
      "cell_type": "markdown",
      "metadata": {
        "id": "6jRgPK5NcbH-"
      },
      "source": [
        "**pass** does nothing"
      ]
    },
    {
      "cell_type": "code",
      "execution_count": null,
      "metadata": {
        "id": "3iSC4F8icbH-",
        "colab": {
          "base_uri": "https://localhost:8080/"
        },
        "outputId": "80e6ab78-ce92-415c-d49d-fb242dbeaa74"
      },
      "outputs": [
        {
          "output_type": "stream",
          "name": "stdout",
          "text": [
            "Iteration: 0\n",
            "Iteration: 1\n",
            "Iteration: 2\n",
            "Iteration: 3\n",
            "Iteration: 4\n",
            "Iteration: 5\n",
            "Iteration: 6\n"
          ]
        }
      ],
      "source": [
        "# The pass statement is used as a placeholder for future code!!\n",
        "for num in range(7):\n",
        "    if num == 5:\n",
        "        # TODO: Add more code for the case num = 5\n",
        "        pass\n",
        "    print(f\"Iteration: {num}\")"
      ]
    },
    {
      "cell_type": "markdown",
      "source": [
        "# Basic Section (End)"
      ],
      "metadata": {
        "id": "CBCnRvUV7d0A"
      }
    },
    {
      "cell_type": "markdown",
      "metadata": {
        "id": "AIgpCBxNcbH-"
      },
      "source": [
        "# [Exceptions](https://docs.python.org/3/library/exceptions.html)"
      ]
    },
    {
      "cell_type": "code",
      "execution_count": null,
      "metadata": {
        "scrolled": true,
        "id": "JnwzmK-fcbH_",
        "colab": {
          "base_uri": "https://localhost:8080/",
          "height": 196
        },
        "outputId": "5e213228-d48e-4c9c-dba5-4fb2867c2d45"
      },
      "outputs": [
        {
          "output_type": "error",
          "ename": "ZeroDivisionError",
          "evalue": "division by zero",
          "traceback": [
            "\u001b[0;31m---------------------------------------------------------------------------\u001b[0m",
            "\u001b[0;31mZeroDivisionError\u001b[0m                         Traceback (most recent call last)",
            "\u001b[0;32m<ipython-input-40-f191d6a35876>\u001b[0m in \u001b[0;36m<cell line: 1>\u001b[0;34m()\u001b[0m\n\u001b[0;32m----> 1\u001b[0;31m \u001b[0mprint\u001b[0m\u001b[0;34m(\u001b[0m\u001b[0;36m100\u001b[0m \u001b[0;34m/\u001b[0m \u001b[0;36m0\u001b[0m\u001b[0;34m)\u001b[0m\u001b[0;34m\u001b[0m\u001b[0;34m\u001b[0m\u001b[0m\n\u001b[0m\u001b[1;32m      2\u001b[0m \u001b[0;34m\u001b[0m\u001b[0m\n\u001b[1;32m      3\u001b[0m \u001b[0mprint\u001b[0m\u001b[0;34m(\u001b[0m\u001b[0;36m100\u001b[0m \u001b[0;34m/\u001b[0m \u001b[0;36m10\u001b[0m\u001b[0;34m)\u001b[0m\u001b[0;34m\u001b[0m\u001b[0;34m\u001b[0m\u001b[0m\n",
            "\u001b[0;31mZeroDivisionError\u001b[0m: division by zero"
          ]
        }
      ],
      "source": [
        "print(100 / 0)\n",
        "\n",
        "print(100 / 10)"
      ]
    },
    {
      "cell_type": "code",
      "source": [
        "benson"
      ],
      "metadata": {
        "colab": {
          "base_uri": "https://localhost:8080/",
          "height": 162
        },
        "id": "-M7rCSsjUgQ3",
        "outputId": "f36a8218-2815-4b42-bddd-654659d9327d"
      },
      "execution_count": null,
      "outputs": [
        {
          "output_type": "error",
          "ename": "NameError",
          "evalue": "name 'benson' is not defined",
          "traceback": [
            "\u001b[0;31m---------------------------------------------------------------------------\u001b[0m",
            "\u001b[0;31mNameError\u001b[0m                                 Traceback (most recent call last)",
            "\u001b[0;32m<ipython-input-42-df09370614bd>\u001b[0m in \u001b[0;36m<cell line: 1>\u001b[0;34m()\u001b[0m\n\u001b[0;32m----> 1\u001b[0;31m \u001b[0mbenson\u001b[0m\u001b[0;34m\u001b[0m\u001b[0;34m\u001b[0m\u001b[0m\n\u001b[0m",
            "\u001b[0;31mNameError\u001b[0m: name 'benson' is not defined"
          ]
        }
      ]
    },
    {
      "cell_type": "code",
      "execution_count": null,
      "metadata": {
        "id": "hS2HnbUicbH_",
        "colab": {
          "base_uri": "https://localhost:8080/"
        },
        "outputId": "d78657b0-220b-41f3-d3c5-bb5bfe4080ab"
      },
      "outputs": [
        {
          "output_type": "stream",
          "name": "stdout",
          "text": [
            "Error: the variabel is not defined\n",
            "10.0\n"
          ]
        }
      ],
      "source": [
        "try:\n",
        "    benson\n",
        "    print(100 / 0)\n",
        "except ZeroDivisionError:\n",
        "    print(\"Error: don't divided by zero\")\n",
        "except NameError:\n",
        "    print(\"Error: the variabel is not defined\")\n",
        "except Exception as e_msg:\n",
        "    print(\"we have an exception\")\n",
        "    print(f\"Other Error: {e_msg}\")\n",
        "\n",
        "print(100 / 10)"
      ]
    },
    {
      "cell_type": "markdown",
      "metadata": {
        "id": "t9SuUewucbH_"
      },
      "source": [
        "# Functions\n",
        "\n",
        "Functions are declared with the keyword `def`"
      ]
    },
    {
      "cell_type": "code",
      "execution_count": null,
      "metadata": {
        "id": "Z_e2gamgcbH_",
        "colab": {
          "base_uri": "https://localhost:8080/"
        },
        "outputId": "51b289d7-0df9-40b7-9561-ed4726e733d8"
      },
      "outputs": [
        {
          "output_type": "execute_result",
          "data": {
            "text/plain": [
              "-1.0"
            ]
          },
          "metadata": {},
          "execution_count": 48
        }
      ],
      "source": [
        "# def tells python you're trying to declare a function\n",
        "def triangle_area(base, height):\n",
        "    # here are operations\n",
        "    # part of function\n",
        "    # etc\n",
        "    return 0.5 * base * height\n",
        "\n",
        "\n",
        "triangle_area(-1, 2)"
      ]
    },
    {
      "cell_type": "code",
      "source": [
        "raise NameError(\"name 'benson' is not defined\")"
      ],
      "metadata": {
        "colab": {
          "base_uri": "https://localhost:8080/",
          "height": 162
        },
        "id": "GWw3E03EVgef",
        "outputId": "30f8a289-259d-4c73-a4ac-6c4154e10fd0"
      },
      "execution_count": null,
      "outputs": [
        {
          "output_type": "error",
          "ename": "NameError",
          "evalue": "name 'benson' is not defined",
          "traceback": [
            "\u001b[0;31m---------------------------------------------------------------------------\u001b[0m",
            "\u001b[0;31mNameError\u001b[0m                                 Traceback (most recent call last)",
            "\u001b[0;32m<ipython-input-50-e527222f2e93>\u001b[0m in \u001b[0;36m<cell line: 1>\u001b[0;34m()\u001b[0m\n\u001b[0;32m----> 1\u001b[0;31m \u001b[0;32mraise\u001b[0m \u001b[0mNameError\u001b[0m\u001b[0;34m(\u001b[0m\u001b[0;34m\"name 'benson' is not defined\"\u001b[0m\u001b[0;34m)\u001b[0m\u001b[0;34m\u001b[0m\u001b[0;34m\u001b[0m\u001b[0m\n\u001b[0m",
            "\u001b[0;31mNameError\u001b[0m: name 'benson' is not defined"
          ]
        }
      ]
    },
    {
      "cell_type": "code",
      "source": [
        "benson"
      ],
      "metadata": {
        "colab": {
          "base_uri": "https://localhost:8080/",
          "height": 162
        },
        "id": "ZrP4TXmNVgtS",
        "outputId": "a76dfaac-1ff1-4df7-cbb2-b26709ec3f28"
      },
      "execution_count": null,
      "outputs": [
        {
          "output_type": "error",
          "ename": "NameError",
          "evalue": "name 'benson' is not defined",
          "traceback": [
            "\u001b[0;31m---------------------------------------------------------------------------\u001b[0m",
            "\u001b[0;31mNameError\u001b[0m                                 Traceback (most recent call last)",
            "\u001b[0;32m<ipython-input-49-df09370614bd>\u001b[0m in \u001b[0;36m<cell line: 1>\u001b[0;34m()\u001b[0m\n\u001b[0;32m----> 1\u001b[0;31m \u001b[0mbenson\u001b[0m\u001b[0;34m\u001b[0m\u001b[0;34m\u001b[0m\u001b[0m\n\u001b[0m",
            "\u001b[0;31mNameError\u001b[0m: name 'benson' is not defined"
          ]
        }
      ]
    },
    {
      "cell_type": "code",
      "execution_count": null,
      "metadata": {
        "id": "PGZOHcqwcbH_",
        "colab": {
          "base_uri": "https://localhost:8080/",
          "height": 318
        },
        "outputId": "73a5254b-9112-41a4-dd9e-eb15e4ee4736"
      },
      "outputs": [
        {
          "output_type": "error",
          "ename": "ValueError",
          "evalue": "Base and height must be non-negative",
          "traceback": [
            "\u001b[0;31m---------------------------------------------------------------------------\u001b[0m",
            "\u001b[0;31mValueError\u001b[0m                                Traceback (most recent call last)",
            "\u001b[0;32m<ipython-input-51-60ff895cb19c>\u001b[0m in \u001b[0;36m<cell line: 6>\u001b[0;34m()\u001b[0m\n\u001b[1;32m      4\u001b[0m     \u001b[0;32mreturn\u001b[0m \u001b[0;36m0.5\u001b[0m \u001b[0;34m*\u001b[0m \u001b[0mbase\u001b[0m \u001b[0;34m*\u001b[0m \u001b[0mheight\u001b[0m\u001b[0;34m\u001b[0m\u001b[0;34m\u001b[0m\u001b[0m\n\u001b[1;32m      5\u001b[0m \u001b[0;34m\u001b[0m\u001b[0m\n\u001b[0;32m----> 6\u001b[0;31m \u001b[0mtriangle_area\u001b[0m\u001b[0;34m(\u001b[0m\u001b[0;34m-\u001b[0m\u001b[0;36m1\u001b[0m\u001b[0;34m,\u001b[0m \u001b[0;36m2\u001b[0m\u001b[0;34m)\u001b[0m\u001b[0;34m\u001b[0m\u001b[0;34m\u001b[0m\u001b[0m\n\u001b[0m",
            "\u001b[0;32m<ipython-input-51-60ff895cb19c>\u001b[0m in \u001b[0;36mtriangle_area\u001b[0;34m(base, height)\u001b[0m\n\u001b[1;32m      1\u001b[0m \u001b[0;32mdef\u001b[0m \u001b[0mtriangle_area\u001b[0m\u001b[0;34m(\u001b[0m\u001b[0mbase\u001b[0m\u001b[0;34m,\u001b[0m \u001b[0mheight\u001b[0m\u001b[0;34m)\u001b[0m\u001b[0;34m:\u001b[0m\u001b[0;34m\u001b[0m\u001b[0;34m\u001b[0m\u001b[0m\n\u001b[1;32m      2\u001b[0m     \u001b[0;32mif\u001b[0m \u001b[0mbase\u001b[0m \u001b[0;34m<\u001b[0m \u001b[0;36m0\u001b[0m \u001b[0;32mor\u001b[0m \u001b[0mheight\u001b[0m \u001b[0;34m<\u001b[0m \u001b[0;36m0\u001b[0m\u001b[0;34m:\u001b[0m\u001b[0;34m\u001b[0m\u001b[0;34m\u001b[0m\u001b[0m\n\u001b[0;32m----> 3\u001b[0;31m         \u001b[0;32mraise\u001b[0m \u001b[0mValueError\u001b[0m\u001b[0;34m(\u001b[0m\u001b[0;34m\"Base and height must be non-negative\"\u001b[0m\u001b[0;34m)\u001b[0m\u001b[0;34m\u001b[0m\u001b[0;34m\u001b[0m\u001b[0m\n\u001b[0m\u001b[1;32m      4\u001b[0m     \u001b[0;32mreturn\u001b[0m \u001b[0;36m0.5\u001b[0m \u001b[0;34m*\u001b[0m \u001b[0mbase\u001b[0m \u001b[0;34m*\u001b[0m \u001b[0mheight\u001b[0m\u001b[0;34m\u001b[0m\u001b[0;34m\u001b[0m\u001b[0m\n\u001b[1;32m      5\u001b[0m \u001b[0;34m\u001b[0m\u001b[0m\n",
            "\u001b[0;31mValueError\u001b[0m: Base and height must be non-negative"
          ]
        }
      ],
      "source": [
        "def triangle_area(base, height):\n",
        "    if base < 0 or height < 0:\n",
        "        raise ValueError(\"Base and height must be non-negative\")\n",
        "    return 0.5 * base * height\n",
        "\n",
        "\n",
        "triangle_area(-1, 2)"
      ]
    },
    {
      "cell_type": "code",
      "source": [
        "def triangle_area(base, height):\n",
        "    try:\n",
        "        if base < 0 or height < 0:\n",
        "            raise ValueError(\"Base and height must be non-negative\")\n",
        "        return 0.5 * base * height\n",
        "    except ValueError as e_message:\n",
        "        print(f\"Error, triangle_area {e_message}, Try a different non-negative value\")\n",
        "    except Exception as e:\n",
        "        print(f\"Error,triangle_area new error {e}\")\n",
        "\n",
        "\n",
        "triangle_area(1, 2)"
      ],
      "metadata": {
        "id": "8kU0rC_cwR__",
        "colab": {
          "base_uri": "https://localhost:8080/"
        },
        "outputId": "2e30add1-8ba9-4df5-e73a-75878b5c355b"
      },
      "execution_count": null,
      "outputs": [
        {
          "output_type": "execute_result",
          "data": {
            "text/plain": [
              "1.0"
            ]
          },
          "metadata": {},
          "execution_count": 58
        }
      ]
    },
    {
      "cell_type": "code",
      "source": [
        "triangle_area(-1, 2)"
      ],
      "metadata": {
        "id": "XzExk7sk66_V",
        "colab": {
          "base_uri": "https://localhost:8080/"
        },
        "outputId": "328ed4fd-25b1-4cf8-8c98-2a3bc15f3ad2"
      },
      "execution_count": null,
      "outputs": [
        {
          "output_type": "stream",
          "name": "stdout",
          "text": [
            "Error, triangle_area Base and height must be non-negative, Try a different non-negative value\n"
          ]
        }
      ]
    },
    {
      "cell_type": "code",
      "source": [
        "triangle_area(\"string\", 2)"
      ],
      "metadata": {
        "colab": {
          "base_uri": "https://localhost:8080/"
        },
        "id": "9mxBcN5jWEwz",
        "outputId": "0ac11426-6299-407b-93a7-969f303948af"
      },
      "execution_count": null,
      "outputs": [
        {
          "output_type": "stream",
          "name": "stdout",
          "text": [
            "Error,triangle_area new error '<' not supported between instances of 'str' and 'int'\n"
          ]
        }
      ]
    },
    {
      "cell_type": "code",
      "source": [
        "# add type hint @mypy\n",
        "# int, str, dict\n",
        "def triangle_area(base: int, height: int):\n",
        "    try:\n",
        "        if base < 0 or height < 0:\n",
        "            raise ValueError(\"Base and height must be non-negative\")\n",
        "        return 0.5 * base * height\n",
        "    except ValueError as error:\n",
        "        print(f\"Error, {error}, Try a different value\")\n",
        "    except Exception as e:\n",
        "        print(f\"Error, {e}\")\n",
        "\n",
        "\n",
        "triangle_area(1, 2)"
      ],
      "metadata": {
        "id": "FMH1PoNFId5c",
        "colab": {
          "base_uri": "https://localhost:8080/"
        },
        "outputId": "48703f77-5fbf-4ba2-8841-5b126c8aeb9b"
      },
      "execution_count": null,
      "outputs": [
        {
          "output_type": "execute_result",
          "data": {
            "text/plain": [
              "1.0"
            ]
          },
          "metadata": {},
          "execution_count": 63
        }
      ]
    },
    {
      "cell_type": "code",
      "source": [
        "?triangle_area"
      ],
      "metadata": {
        "id": "Pj5amrWV7GrF"
      },
      "execution_count": null,
      "outputs": []
    },
    {
      "cell_type": "code",
      "source": [
        "?range"
      ],
      "metadata": {
        "id": "s-94i03sXG_Q"
      },
      "execution_count": null,
      "outputs": []
    },
    {
      "cell_type": "code",
      "source": [
        "# Python 3.7\n",
        "# Old school code\n",
        "# from typing import Union\n",
        "# Union[int, float]\n",
        "\n",
        "\n",
        "def triangle_area(base: int | float, height: int | float) -> float:\n",
        "    try:\n",
        "        if base < 0 or height < 0:\n",
        "            raise ValueError(\"Base and height must be non-negative\")\n",
        "        return 0.5 * base * height\n",
        "    except ValueError as error:\n",
        "        print(f\"Error, {error}, Try a different value\")\n",
        "    except Exception as e:\n",
        "        print(f\"Error, {e}\")\n",
        "\n",
        "\n",
        "triangle_area(1, 2)"
      ],
      "metadata": {
        "id": "dl3PTPsN-uRL",
        "colab": {
          "base_uri": "https://localhost:8080/"
        },
        "outputId": "974b7f64-9061-45f7-a8a2-d0b901f47098"
      },
      "execution_count": null,
      "outputs": [
        {
          "output_type": "execute_result",
          "data": {
            "text/plain": [
              "1.0"
            ]
          },
          "metadata": {},
          "execution_count": 66
        }
      ]
    },
    {
      "cell_type": "code",
      "source": [
        "?triangle_area"
      ],
      "metadata": {
        "id": "VUHEQgVwQw3g"
      },
      "execution_count": null,
      "outputs": []
    },
    {
      "cell_type": "code",
      "source": [
        "def triangle_area(base: int | float, height: int | float) -> float:\n",
        "    \"\"\"Triangle_area is a function that calculate the area of an triangle shape\n",
        "\n",
        "    Input:\n",
        "      base: Union[int, float]\n",
        "        non-negative numeric input\n",
        "      height: Union[int, float]\n",
        "        non-negative numeric input\n",
        "    Output:\n",
        "      area: float\n",
        "         1/2 * base * height\n",
        "    \"\"\"\n",
        "    try:\n",
        "        if base < 0 or height < 0:\n",
        "            raise ValueError(\"Base and height must be non-negative\")\n",
        "        return 0.5 * base * height\n",
        "    except ValueError as error:\n",
        "        print(f\"Error, {error}, Try a different value\")\n",
        "    except Exception as e:\n",
        "        print(f\"Error, {e}\")\n",
        "\n",
        "\n",
        "triangle_area(\"string\", 2)"
      ],
      "metadata": {
        "id": "5OYbDlfbI4xE",
        "colab": {
          "base_uri": "https://localhost:8080/"
        },
        "outputId": "ad096a15-f87d-4d9e-8b67-37ee471a0b7d"
      },
      "execution_count": null,
      "outputs": [
        {
          "output_type": "stream",
          "name": "stdout",
          "text": [
            "Error, '<' not supported between instances of 'str' and 'int'\n"
          ]
        }
      ]
    },
    {
      "cell_type": "code",
      "source": [
        "?triangle_area"
      ],
      "metadata": {
        "id": "S8C3BFcKQfl4"
      },
      "execution_count": null,
      "outputs": []
    },
    {
      "cell_type": "code",
      "source": [
        "def triangle_area(base, height):\n",
        "    return 0.5 * base * height\n",
        "\n",
        "\n",
        "triangle_area(1, 2)"
      ],
      "metadata": {
        "id": "rGrcRFNKJXlC"
      },
      "execution_count": null,
      "outputs": []
    },
    {
      "cell_type": "markdown",
      "source": [
        "(Add-on: )\n",
        "1. Function can have multiple outputs\n",
        "2. Function input can also be a function\n",
        "3. Function input can have default values"
      ],
      "metadata": {
        "id": "OJAerURiINzY"
      }
    },
    {
      "cell_type": "code",
      "execution_count": null,
      "metadata": {
        "id": "XeY2DXh-cbIA"
      },
      "outputs": [],
      "source": [
        "# return multiple outputs\n",
        "def simple(a, b):\n",
        "    return a, b\n",
        "\n",
        "\n",
        "simple(1, 2)"
      ]
    },
    {
      "cell_type": "code",
      "source": [
        "x, y = simple(1, 2)\n",
        "print(x)\n",
        "print(y)"
      ],
      "metadata": {
        "id": "qGdukeJfHBSp"
      },
      "execution_count": null,
      "outputs": []
    },
    {
      "cell_type": "code",
      "execution_count": null,
      "metadata": {
        "id": "PJTo39V0cbIA"
      },
      "outputs": [],
      "source": [
        "# everything in python is an object, and can be passed into a function\n",
        "def f(x):\n",
        "    return x + 2\n",
        "\n",
        "\n",
        "def twice(g, x):\n",
        "    return g(g(x))\n",
        "\n",
        "\n",
        "twice(f, 2)  # + 4"
      ]
    },
    {
      "cell_type": "code",
      "execution_count": null,
      "metadata": {
        "id": "JPLXUkxccbIA"
      },
      "outputs": [],
      "source": [
        "def n_apply(f, x, n):\n",
        "    \"\"\"applies f to x n times\"\"\"\n",
        "    for _ in range(n):  # _ is dummy variable in iteration\n",
        "        x = f(x)\n",
        "    return x\n",
        "\n",
        "\n",
        "n_apply(f, 1, 5)  # 1 + 2*5"
      ]
    },
    {
      "cell_type": "code",
      "execution_count": null,
      "metadata": {
        "id": "kY80quZccbIA"
      },
      "outputs": [],
      "source": [
        "def h(a, b, x=3, y=2):\n",
        "    return a * x + b * y"
      ]
    },
    {
      "cell_type": "code",
      "execution_count": null,
      "metadata": {
        "id": "LtWd0s1PcbIB"
      },
      "outputs": [],
      "source": [
        "h(1, 1, 3, 3)  # equivalent to h(1,1,3,2)"
      ]
    },
    {
      "cell_type": "markdown",
      "metadata": {
        "id": "QDqLQrCRcbIC"
      },
      "source": [
        "# Exercise 1\n",
        "\n",
        "(10 minutes)\n",
        "\n",
        "1. Print every power of 2 less than 10,000\n",
        "2. Write a function that takes two inputs, $a$ and $b$ and returns the value of $a+2b$\n",
        "3. Write a function takes a number $n$ as input, and prints all [Fibonacci numbers](https://en.wikipedia.org/wiki/Fibonacci_number) less than $n$"
      ]
    },
    {
      "cell_type": "code",
      "execution_count": null,
      "metadata": {
        "id": "eRDZk_LRcbIC"
      },
      "outputs": [],
      "source": [
        "# YOUR CODE HERE"
      ]
    },
    {
      "cell_type": "code",
      "source": [
        "# Q3-Sol\n",
        "# def fibonacci(n:int)->None:\n",
        "#   a = 0\n",
        "#   b = 1\n",
        "#   while a < n:\n",
        "#     print(a)\n",
        "#     a,b = b,a+b"
      ],
      "metadata": {
        "id": "GdW23ODtuw5d"
      },
      "execution_count": null,
      "outputs": []
    },
    {
      "cell_type": "markdown",
      "metadata": {
        "id": "I2b0BxBScbIC"
      },
      "source": [
        "# Lists\n",
        "\n",
        "A list in Python is an ordered (or indexed) collection of objects"
      ]
    },
    {
      "cell_type": "code",
      "execution_count": null,
      "metadata": {
        "id": "rKH7rKi4cbID",
        "colab": {
          "base_uri": "https://localhost:8080/",
          "height": 73
        },
        "outputId": "9fa89bd6-1d13-4dfb-b904-b6b9df202a5d"
      },
      "outputs": [
        {
          "output_type": "stream",
          "name": "stdout",
          "text": [
            "['x', 1, 3.5]\n"
          ]
        },
        {
          "output_type": "execute_result",
          "data": {
            "text/plain": [
              "'x'"
            ],
            "application/vnd.google.colaboratory.intrinsic+json": {
              "type": "string"
            }
          },
          "metadata": {},
          "execution_count": 71
        }
      ],
      "source": [
        "# heterogeneous types\n",
        "a = [\"x\", 1, 3.5]\n",
        "print(a)\n",
        "a[0]"
      ]
    },
    {
      "cell_type": "markdown",
      "metadata": {
        "id": "4e3B3K73cbID"
      },
      "source": [
        "You can iterate over lists in a very natural way"
      ]
    },
    {
      "cell_type": "code",
      "execution_count": null,
      "metadata": {
        "id": "_iDpGx8XcbID",
        "colab": {
          "base_uri": "https://localhost:8080/"
        },
        "outputId": "b90b118e-e4bb-42f8-9ded-63b7d35cba34"
      },
      "outputs": [
        {
          "output_type": "stream",
          "name": "stdout",
          "text": [
            "x\n",
            "overwritten\n",
            "3.5\n"
          ]
        }
      ],
      "source": [
        "for word in a:\n",
        "    print(word)"
      ]
    },
    {
      "cell_type": "markdown",
      "metadata": {
        "id": "Q-4BiQMlcbID"
      },
      "source": [
        "Python indexing starts at 0."
      ]
    },
    {
      "cell_type": "code",
      "execution_count": null,
      "metadata": {
        "id": "nzyLV3cfcbID",
        "colab": {
          "base_uri": "https://localhost:8080/"
        },
        "outputId": "48cc85a9-4534-41f4-ccbd-f4bd47ea8bde"
      },
      "outputs": [
        {
          "output_type": "execute_result",
          "data": {
            "text/plain": [
              "['x', 'overwritten', 3.5]"
            ]
          },
          "metadata": {},
          "execution_count": 72
        }
      ],
      "source": [
        "# mutable\n",
        "a[1] = \"overwritten\"\n",
        "a"
      ]
    },
    {
      "cell_type": "code",
      "execution_count": null,
      "metadata": {
        "id": "UzEMwS-HcbID",
        "colab": {
          "base_uri": "https://localhost:8080/"
        },
        "outputId": "dbba4877-a4ff-4209-947d-806197dd1988"
      },
      "outputs": [
        {
          "output_type": "stream",
          "name": "stdout",
          "text": [
            "[<function f at 0x7f23520525f0>, [1, 2, 2.1]]\n"
          ]
        }
      ],
      "source": [
        "# can even put functions and other lists inside of lists!\n",
        "def f(x):\n",
        "    return x\n",
        "\n",
        "\n",
        "b = [f, [1, 2, 2.1]]\n",
        "print(b)"
      ]
    },
    {
      "cell_type": "markdown",
      "metadata": {
        "id": "hIHhKPrwcbIE"
      },
      "source": [
        "You can `append` method to `lists` class using `.append()` after a object, and do other operations, such as `pop()`, `insert()`, etc."
      ]
    },
    {
      "cell_type": "markdown",
      "metadata": {
        "id": "TvKPLJkdcbIF"
      },
      "source": [
        "Python terminology:\n",
        "* a list is a \"class\"\n",
        "* the variable `a` is an object, or instance of the class\n",
        "* `append()` is a method"
      ]
    },
    {
      "cell_type": "code",
      "source": [
        "?a.append"
      ],
      "metadata": {
        "id": "tMnL2rK5p979"
      },
      "execution_count": null,
      "outputs": []
    },
    {
      "cell_type": "code",
      "execution_count": null,
      "metadata": {
        "id": "YpybvVQLcbIE",
        "colab": {
          "base_uri": "https://localhost:8080/"
        },
        "outputId": "39f98f8f-81cb-4229-b58c-9f03b2a758af"
      },
      "outputs": [
        {
          "output_type": "stream",
          "name": "stdout",
          "text": [
            "[0]\n",
            "[0, 1]\n",
            "[0, 1, 2]\n",
            "[0, 1, 2, 3]\n",
            "[0, 1, 2, 3, 4]\n",
            "[0, 1, 2, 3, 4, 5]\n",
            "[0, 1, 2, 3, 4, 5, 6]\n",
            "[0, 1, 2, 3, 4, 5, 6, 7]\n",
            "[0, 1, 2, 3, 4, 5, 6, 7, 8]\n",
            "[0, 1, 2, 3, 4, 5, 6, 7, 8, 9]\n"
          ]
        }
      ],
      "source": [
        "a = []\n",
        "for i in range(10):\n",
        "    a.append(i)\n",
        "    print(a)"
      ]
    },
    {
      "cell_type": "code",
      "execution_count": null,
      "metadata": {
        "id": "ZvbESvwscbIE",
        "colab": {
          "base_uri": "https://localhost:8080/"
        },
        "outputId": "78813a98-e75c-4e7a-c5e7-7943bea1f569"
      },
      "outputs": [
        {
          "output_type": "stream",
          "name": "stdout",
          "text": [
            "Removed 9, a is now [0, 1, 2, 3, 4, 5, 6, 7, 8]\n",
            "Removed 8, a is now [0, 1, 2, 3, 4, 5, 6, 7]\n",
            "Removed 7, a is now [0, 1, 2, 3, 4, 5, 6]\n",
            "Removed 6, a is now [0, 1, 2, 3, 4, 5]\n",
            "Removed 5, a is now [0, 1, 2, 3, 4]\n",
            "Removed 4, a is now [0, 1, 2, 3]\n",
            "Removed 3, a is now [0, 1, 2]\n",
            "Removed 2, a is now [0, 1]\n",
            "Removed 1, a is now [0]\n",
            "Removed 0, a is now []\n"
          ]
        }
      ],
      "source": [
        "while len(a) > 0:\n",
        "    elt = a.pop()\n",
        "    print(f\"Removed {elt}, a is now {a}\")"
      ]
    },
    {
      "cell_type": "markdown",
      "source": [
        " (Add-on):\n",
        "1. How to insert an element at a specific index of list\n",
        "2. How to append all element in a list into another list"
      ],
      "metadata": {
        "id": "iQZY_rBhTZxC"
      }
    },
    {
      "cell_type": "code",
      "execution_count": null,
      "metadata": {
        "id": "VHJ7S5EAcbIE"
      },
      "outputs": [],
      "source": [
        "# Insert a value at a specific index\n",
        "a = [1, 2, 3]\n",
        "a.insert(1, \"new value\")\n",
        "print(a)"
      ]
    },
    {
      "cell_type": "code",
      "source": [
        "a = [1, 2, 3]\n",
        "b = [\"x\", \"y\"]\n",
        "a.append(b)\n",
        "a"
      ],
      "metadata": {
        "colab": {
          "base_uri": "https://localhost:8080/"
        },
        "id": "6GbyCTAnxBYX",
        "outputId": "eeffc2d7-36ff-433c-a6f9-1749e45a61ac"
      },
      "execution_count": null,
      "outputs": [
        {
          "output_type": "execute_result",
          "data": {
            "text/plain": [
              "[1, 2, 3, ['x', 'y']]"
            ]
          },
          "metadata": {},
          "execution_count": 81
        }
      ]
    },
    {
      "cell_type": "code",
      "execution_count": null,
      "metadata": {
        "id": "ijH42byecbIE",
        "colab": {
          "base_uri": "https://localhost:8080/"
        },
        "outputId": "78ee92a4-d453-4939-82fa-2fb6ce9826c5"
      },
      "outputs": [
        {
          "output_type": "stream",
          "name": "stdout",
          "text": [
            "[1, 2, 3, 'x', 'y']\n"
          ]
        }
      ],
      "source": [
        "# Append all element inside a list into another list\n",
        "a = [1, 2, 3]\n",
        "b = [\"x\", \"y\"]\n",
        "a.extend(b)  # same as a+b\n",
        "print(a)"
      ]
    },
    {
      "cell_type": "code",
      "execution_count": null,
      "metadata": {
        "id": "smAIZHNycbIE",
        "colab": {
          "base_uri": "https://localhost:8080/"
        },
        "outputId": "3ed88128-8c00-4814-abd4-0b898ab6a12b"
      },
      "outputs": [
        {
          "output_type": "execute_result",
          "data": {
            "text/plain": [
              "[1, 2, 3, 'x', 'y']"
            ]
          },
          "metadata": {},
          "execution_count": 83
        }
      ],
      "source": [
        "a = [1, 2, 3]\n",
        "b = [\"x\", \"y\"]\n",
        "a + b\n",
        "# looks like string concatenation? We are going to talk more in 2nd lecture about OOP"
      ]
    },
    {
      "cell_type": "markdown",
      "metadata": {
        "id": "la9LiI30cbIF"
      },
      "source": [
        "Lists in python are only implicitly collections of the objects that constitute them. Setting one array equal to another can lead to unexpected results:"
      ]
    },
    {
      "cell_type": "code",
      "execution_count": null,
      "metadata": {
        "id": "1OZGc_vWcbIF",
        "colab": {
          "base_uri": "https://localhost:8080/"
        },
        "outputId": "d4c94012-9968-42b3-c9e3-037f230718a9"
      },
      "outputs": [
        {
          "output_type": "stream",
          "name": "stdout",
          "text": [
            "original a:, [1, 2, 3]\n",
            "original b:, [1, 2, 3]\n",
            "after edit...\n",
            "a:, [1, 2, 3]\n",
            "b:, ['edited', 2, 3]\n"
          ]
        }
      ],
      "source": [
        "a = [1, 2, 3]\n",
        "b = a.copy()  # shallow .deepcopy()\n",
        "# b = a\n",
        "print(f\"original a:, {a}\")\n",
        "print(f\"original b:, {b}\")\n",
        "b[0] = \"edited\"\n",
        "print(\"after edit...\")\n",
        "print(f\"a:, {a}\")\n",
        "print(f\"b:, {b}\")"
      ]
    },
    {
      "cell_type": "code",
      "execution_count": null,
      "metadata": {
        "id": "DrcqMWghcbIF"
      },
      "outputs": [],
      "source": [
        "?a.copy"
      ]
    },
    {
      "cell_type": "markdown",
      "metadata": {
        "id": "hBNPBcGJcbIF"
      },
      "source": [
        "A list only stores some pointers to locations in your computer's memory: when we wrote `b = a` Python created a new list `b` which shares its entries with `a`.\n",
        "\n",
        "The function `.copy()` will create a completely distinct copy with new objects."
      ]
    },
    {
      "cell_type": "markdown",
      "metadata": {
        "id": "s0oOi7ItcbIF"
      },
      "source": [
        "## List Comprehensions\n",
        "\n",
        "Python's list comprehensions let you create lists in a way that is reminiscent of set notation\n",
        "\n",
        "$$ S = \\{ x^2 ~\\mid~ 0 \\le x \\le 20, x\\mod 3 = 0\\}$$"
      ]
    },
    {
      "cell_type": "code",
      "source": [
        "S = []\n",
        "for x in range(21):\n",
        "    if x % 3 == 0:\n",
        "        S.append(x**2)\n",
        "S"
      ],
      "metadata": {
        "id": "rzUspLYBqy9l",
        "colab": {
          "base_uri": "https://localhost:8080/"
        },
        "outputId": "81b1b38c-21c9-49ea-807d-d15d477d4f4a"
      },
      "execution_count": null,
      "outputs": [
        {
          "output_type": "execute_result",
          "data": {
            "text/plain": [
              "[0, 9, 36, 81, 144, 225, 324]"
            ]
          },
          "metadata": {},
          "execution_count": 86
        }
      ]
    },
    {
      "cell_type": "markdown",
      "metadata": {
        "id": "X72grtjTcbIG"
      },
      "source": [
        "Syntax is generally\n",
        "```python3\n",
        "S = [<element> <for statement> <conditional>]\n",
        "```"
      ]
    },
    {
      "cell_type": "code",
      "execution_count": null,
      "metadata": {
        "id": "vzfGtb_vcbIG",
        "colab": {
          "base_uri": "https://localhost:8080/"
        },
        "outputId": "f3db1066-5cbc-45b5-f13c-1b908030f90a"
      },
      "outputs": [
        {
          "output_type": "execute_result",
          "data": {
            "text/plain": [
              "[0, 9, 36, 81, 144, 225, 324]"
            ]
          },
          "metadata": {},
          "execution_count": 87
        }
      ],
      "source": [
        "S = [x**2 for x in range(21) if x % 3 == 0]\n",
        "S"
      ]
    },
    {
      "cell_type": "markdown",
      "source": [
        "(Self-study)Try yourself with nested for loop~"
      ],
      "metadata": {
        "id": "JZ88hKsZNeNY"
      }
    },
    {
      "cell_type": "code",
      "execution_count": null,
      "metadata": {
        "id": "lsWtnruKcbIG"
      },
      "outputs": [],
      "source": [
        "S = []\n",
        "for i in range(2):\n",
        "    for j in range(2):\n",
        "        for k in range(2):\n",
        "            if (i + j + k) % 2 == 0:\n",
        "                S += [[i, j, k]]\n",
        "\n",
        "S"
      ]
    },
    {
      "cell_type": "code",
      "execution_count": null,
      "metadata": {
        "id": "zj7PYS66cbIG"
      },
      "outputs": [],
      "source": [
        "# you aren't restricted to a single for loop\n",
        "S = [\n",
        "    [i, j, k]\n",
        "    for i in range(2)\n",
        "    for j in range(2)\n",
        "    for k in range(2)\n",
        "    if (i + j + k) % 2 == 0\n",
        "]\n",
        "S"
      ]
    },
    {
      "cell_type": "code",
      "source": [
        "# you aren't restricted to a single if statement : Ternary operation\n",
        "# s1 if c1 else c2\n",
        "[\"yes\" if v == 1 else \"no\" if v == 2 else \"idle\" for v in [1, 2, 3]]"
      ],
      "metadata": {
        "id": "VtUzdppOmSP5"
      },
      "execution_count": null,
      "outputs": []
    },
    {
      "cell_type": "markdown",
      "metadata": {
        "id": "82HHUl5EcbIG"
      },
      "source": [
        "# Other Collections\n",
        "\n",
        "We've seen the `list` class, which is ordered/indexed, and mutable.  There are other Python collections that you may find useful:\n",
        "* `tuple` which is ordered/indexed, and immutable\n",
        "* `set` which is unordered/unindexed, mutable, and doesn't allow for duplicate elements\n",
        "* `dict` (dictionary), paired, which is unordered/unindexed, and mutable, with no duplicate keys."
      ]
    },
    {
      "cell_type": "code",
      "execution_count": null,
      "metadata": {
        "id": "xAry3xBbcbIG",
        "colab": {
          "base_uri": "https://localhost:8080/",
          "height": 214
        },
        "outputId": "f47ce7de-5219-44f1-ab4f-b51bbe1a17f5"
      },
      "outputs": [
        {
          "output_type": "stream",
          "name": "stdout",
          "text": [
            "(1, 2, 4)\n"
          ]
        },
        {
          "output_type": "error",
          "ename": "TypeError",
          "evalue": "'tuple' object does not support item assignment",
          "traceback": [
            "\u001b[0;31m---------------------------------------------------------------------------\u001b[0m",
            "\u001b[0;31mTypeError\u001b[0m                                 Traceback (most recent call last)",
            "\u001b[0;32m<ipython-input-88-2fba16f77fa3>\u001b[0m in \u001b[0;36m<cell line: 3>\u001b[0;34m()\u001b[0m\n\u001b[1;32m      1\u001b[0m \u001b[0ma_tuple\u001b[0m \u001b[0;34m=\u001b[0m \u001b[0;34m(\u001b[0m\u001b[0;36m1\u001b[0m\u001b[0;34m,\u001b[0m \u001b[0;36m2\u001b[0m\u001b[0;34m,\u001b[0m \u001b[0;36m4\u001b[0m\u001b[0;34m)\u001b[0m\u001b[0;34m\u001b[0m\u001b[0;34m\u001b[0m\u001b[0m\n\u001b[1;32m      2\u001b[0m \u001b[0mprint\u001b[0m\u001b[0;34m(\u001b[0m\u001b[0ma_tuple\u001b[0m\u001b[0;34m)\u001b[0m\u001b[0;34m\u001b[0m\u001b[0;34m\u001b[0m\u001b[0m\n\u001b[0;32m----> 3\u001b[0;31m \u001b[0ma_tuple\u001b[0m\u001b[0;34m[\u001b[0m\u001b[0;36m0\u001b[0m\u001b[0;34m]\u001b[0m \u001b[0;34m=\u001b[0m \u001b[0;36m1\u001b[0m\u001b[0;34m\u001b[0m\u001b[0;34m\u001b[0m\u001b[0m\n\u001b[0m",
            "\u001b[0;31mTypeError\u001b[0m: 'tuple' object does not support item assignment"
          ]
        }
      ],
      "source": [
        "a_tuple = (1, 2, 4)\n",
        "print(a_tuple)\n",
        "a_tuple[0] = 1"
      ]
    },
    {
      "cell_type": "code",
      "execution_count": null,
      "metadata": {
        "id": "KVAXxz6UcbIH",
        "colab": {
          "base_uri": "https://localhost:8080/",
          "height": 214
        },
        "outputId": "fd159ed2-afa0-4d85-9a1a-ef99b46019b7"
      },
      "outputs": [
        {
          "output_type": "stream",
          "name": "stdout",
          "text": [
            "{2, 3, 5}\n"
          ]
        },
        {
          "output_type": "error",
          "ename": "TypeError",
          "evalue": "'set' object is not subscriptable",
          "traceback": [
            "\u001b[0;31m---------------------------------------------------------------------------\u001b[0m",
            "\u001b[0;31mTypeError\u001b[0m                                 Traceback (most recent call last)",
            "\u001b[0;32m<ipython-input-89-481455a7fe96>\u001b[0m in \u001b[0;36m<cell line: 3>\u001b[0;34m()\u001b[0m\n\u001b[1;32m      1\u001b[0m \u001b[0ma_set\u001b[0m \u001b[0;34m=\u001b[0m \u001b[0;34m{\u001b[0m\u001b[0;36m5\u001b[0m\u001b[0;34m,\u001b[0m \u001b[0;36m3\u001b[0m\u001b[0;34m,\u001b[0m \u001b[0;36m2\u001b[0m\u001b[0;34m,\u001b[0m \u001b[0;36m5.0\u001b[0m\u001b[0;34m}\u001b[0m\u001b[0;34m\u001b[0m\u001b[0;34m\u001b[0m\u001b[0m\n\u001b[1;32m      2\u001b[0m \u001b[0mprint\u001b[0m\u001b[0;34m(\u001b[0m\u001b[0ma_set\u001b[0m\u001b[0;34m)\u001b[0m\u001b[0;34m\u001b[0m\u001b[0;34m\u001b[0m\u001b[0m\n\u001b[0;32m----> 3\u001b[0;31m \u001b[0mprint\u001b[0m\u001b[0;34m(\u001b[0m\u001b[0ma_set\u001b[0m\u001b[0;34m[\u001b[0m\u001b[0;36m0\u001b[0m\u001b[0;34m]\u001b[0m\u001b[0;34m)\u001b[0m\u001b[0;34m\u001b[0m\u001b[0;34m\u001b[0m\u001b[0m\n\u001b[0m",
            "\u001b[0;31mTypeError\u001b[0m: 'set' object is not subscriptable"
          ]
        }
      ],
      "source": [
        "a_set = {5, 3, 2, 5.0}\n",
        "print(a_set)\n",
        "print(a_set[0])"
      ]
    },
    {
      "cell_type": "code",
      "execution_count": null,
      "metadata": {
        "id": "F9b-2Y1YcbIH",
        "colab": {
          "base_uri": "https://localhost:8080/"
        },
        "outputId": "c041e828-44e1-4f71-f390-707d45670580"
      },
      "outputs": [
        {
          "output_type": "stream",
          "name": "stdout",
          "text": [
            "After adding 6,   a_set:{2, 3, 5, 6}\n",
            "After removing 6, a_set:{2, 3, 5}\n"
          ]
        }
      ],
      "source": [
        "a_set.add(6)  # you can also add all element in a list by using .update()\n",
        "print(f\"After adding 6,   a_set:{a_set}\")\n",
        "a_set.remove(6)  # you can also add all element in a list by using minues operator\n",
        "print(f\"After removing 6, a_set:{a_set}\")"
      ]
    },
    {
      "cell_type": "code",
      "execution_count": null,
      "metadata": {
        "id": "8eqTIXOXcbIH",
        "colab": {
          "base_uri": "https://localhost:8080/"
        },
        "outputId": "4b5dbc65-8a5a-4ad9-a783-b4e4a21bc800"
      },
      "outputs": [
        {
          "output_type": "execute_result",
          "data": {
            "text/plain": [
              "{2: 12, 'key_2': 'str', 'key_3': [13, 'value']}"
            ]
          },
          "metadata": {},
          "execution_count": 91
        }
      ],
      "source": [
        "a_dict = {}  # {key0: value0, key1: value1}\n",
        "a_dict[2] = 12  # dict[key] = value\n",
        "a_dict[\"key_2\"] = \"str\"\n",
        "a_dict[\"key_3\"] = [13, \"value\"]\n",
        "a_dict"
      ]
    },
    {
      "cell_type": "code",
      "source": [
        "print(a_dict[2])\n",
        "print(a_dict.get(2))"
      ],
      "metadata": {
        "id": "VawfIljer7Td",
        "colab": {
          "base_uri": "https://localhost:8080/"
        },
        "outputId": "d8db706c-a90f-46e7-b7b3-ad382070e7aa"
      },
      "execution_count": null,
      "outputs": [
        {
          "output_type": "stream",
          "name": "stdout",
          "text": [
            "12\n",
            "12\n"
          ]
        }
      ]
    },
    {
      "cell_type": "code",
      "execution_count": null,
      "metadata": {
        "id": "7E6KY3rmcbIH"
      },
      "outputs": [],
      "source": [
        "a_dict_copy = {2: \"new value\", \"key_2\": 28, \"key_3\": [13, \"value\"]}\n",
        "a_dict_copy"
      ]
    },
    {
      "cell_type": "markdown",
      "source": [
        "(Optional) More Advanced Collections in Python\n",
        "* [`OrderedDict`](https://docs.python.org/3/library/collections.html#ordereddict-objects) Dict ordered by keys\n",
        "* [`deque`](https://docs.python.org/3/library/collections.html#deque-objects): double-ended queue (generalization of stack and queue)\n",
        "* [`heapq`](https://docs.python.org/3/library/heapq.html) Priority Queue"
      ],
      "metadata": {
        "id": "DxnjXbSm0AO0"
      }
    },
    {
      "cell_type": "markdown",
      "metadata": {
        "id": "yPXV07ppcbIH"
      },
      "source": [
        "# Exercise 2\n",
        "\n",
        "**Lists**\n",
        "1. Create a list `['a', 'b', 'c']`\n",
        "2. use the `insert()` method to put the element `'d'` at index 1\n",
        "3. use the `remove()` method to delete the element `'b'` in the list\n",
        "\n",
        "**List comprehensions**\n",
        "1. What does the following list contain?\n",
        "```python\n",
        "X = [i for i in range(100)]\n",
        "```\n",
        "2. Interpret the following set as a list comprehension:\n",
        "$S_1 = \\{x\\in X \\mid x\\mod 5 = 2\\}$\n",
        "3. Intepret the following set as a list comprehension: $S_2 = \\{x \\in S_1 \\mid x \\text{ is even}\\}$\n",
        "4. generate the set of all tuples $(x,y)$ where $x\\in S_1$, $y\\in S_2$.\n",
        "\n",
        "**Other Collections**\n",
        "1. Try creating another type of collection\n",
        "2. try iterating over it."
      ]
    },
    {
      "cell_type": "code",
      "source": [],
      "metadata": {
        "id": "68XDXvqLLOSK"
      },
      "execution_count": null,
      "outputs": []
    }
  ],
  "metadata": {
    "kernelspec": {
      "display_name": "Python 3",
      "language": "python",
      "name": "python3"
    },
    "language_info": {
      "codemirror_mode": {
        "name": "ipython",
        "version": 3
      },
      "file_extension": ".py",
      "mimetype": "text/x-python",
      "name": "python",
      "nbconvert_exporter": "python",
      "pygments_lexer": "ipython3",
      "version": "3.8.5"
    },
    "colab": {
      "provenance": [],
      "collapsed_sections": [
        "IB20Lo4pcbHr",
        "CyZW8H_CcbHu"
      ],
      "toc_visible": true,
      "include_colab_link": true
    }
  },
  "nbformat": 4,
  "nbformat_minor": 0
}